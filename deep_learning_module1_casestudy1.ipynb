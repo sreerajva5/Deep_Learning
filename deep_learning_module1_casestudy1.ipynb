{
 "cells": [
  {
   "cell_type": "markdown",
   "metadata": {},
   "source": [
    "### Deep Learning - Module 1 , Case study1"
   ]
  },
  {
   "cell_type": "markdown",
   "metadata": {},
   "source": [
    "Install TensorFlow and other important libraries required for the course on your system.\n",
    "The import libraries are:\n",
    "• Numpy\n",
    "• Scipy\n",
    "• Pandas\n",
    "• Sklearn\n",
    "• Tensorflow\n",
    "• Matplotlib\n",
    "• Pillow\n",
    "• h5py\n",
    "• scikit-learn\n",
    "• tflearn"
   ]
  },
  {
   "cell_type": "code",
   "execution_count": 2,
   "metadata": {},
   "outputs": [],
   "source": [
    "import numpy as np"
   ]
  },
  {
   "cell_type": "code",
   "execution_count": 3,
   "metadata": {},
   "outputs": [],
   "source": [
    "import scipy as sp"
   ]
  },
  {
   "cell_type": "code",
   "execution_count": 4,
   "metadata": {},
   "outputs": [],
   "source": [
    "import pandas as pd"
   ]
  },
  {
   "cell_type": "code",
   "execution_count": 5,
   "metadata": {},
   "outputs": [],
   "source": [
    "import sklearn"
   ]
  },
  {
   "cell_type": "code",
   "execution_count": 6,
   "metadata": {},
   "outputs": [],
   "source": [
    "import tensorflow as tf"
   ]
  },
  {
   "cell_type": "code",
   "execution_count": 7,
   "metadata": {},
   "outputs": [],
   "source": [
    "import matplotlib.pyplot as plt\n",
    "%matplotlib inline"
   ]
  },
  {
   "cell_type": "code",
   "execution_count": 8,
   "metadata": {},
   "outputs": [
    {
     "name": "stdout",
     "output_type": "stream",
     "text": [
      "Requirement already satisfied: Pillow in c:\\users\\sreeraj.va\\appdata\\local\\continuum\\anaconda3\\lib\\site-packages (6.2.0)\n"
     ]
    }
   ],
   "source": [
    "!pip install Pillow"
   ]
  },
  {
   "cell_type": "code",
   "execution_count": 9,
   "metadata": {},
   "outputs": [],
   "source": [
    "from PIL import Image"
   ]
  },
  {
   "cell_type": "code",
   "execution_count": 10,
   "metadata": {},
   "outputs": [],
   "source": [
    "import h5py"
   ]
  },
  {
   "cell_type": "code",
   "execution_count": 11,
   "metadata": {},
   "outputs": [
    {
     "name": "stdout",
     "output_type": "stream",
     "text": [
      "Requirement already satisfied: scikit-learn in c:\\users\\sreeraj.va\\appdata\\local\\continuum\\anaconda3\\lib\\site-packages (0.22.2.post1)\n",
      "Requirement already satisfied: joblib>=0.11 in c:\\users\\sreeraj.va\\appdata\\local\\continuum\\anaconda3\\lib\\site-packages (from scikit-learn) (0.13.2)\n",
      "Requirement already satisfied: numpy>=1.11.0 in c:\\users\\sreeraj.va\\appdata\\local\\continuum\\anaconda3\\lib\\site-packages (from scikit-learn) (1.16.5)\n",
      "Requirement already satisfied: scipy>=0.17.0 in c:\\users\\sreeraj.va\\appdata\\local\\continuum\\anaconda3\\lib\\site-packages (from scikit-learn) (1.4.1)\n"
     ]
    }
   ],
   "source": [
    "!pip install scikit-learn"
   ]
  },
  {
   "cell_type": "code",
   "execution_count": 13,
   "metadata": {},
   "outputs": [],
   "source": [
    "import sklearn"
   ]
  },
  {
   "cell_type": "code",
   "execution_count": 15,
   "metadata": {},
   "outputs": [
    {
     "name": "stdout",
     "output_type": "stream",
     "text": [
      "Collecting tflearn\n",
      "  Using cached https://files.pythonhosted.org/packages/16/ec/e9ce1b52e71f6dff3bd944f020cef7140779e783ab27512ea7c7275ddee5/tflearn-0.3.2.tar.gz\n",
      "Requirement already satisfied: numpy in c:\\users\\sreeraj.va\\appdata\\local\\continuum\\anaconda3\\lib\\site-packages (from tflearn) (1.16.5)\n",
      "Requirement already satisfied: six in c:\\users\\sreeraj.va\\appdata\\local\\continuum\\anaconda3\\lib\\site-packages (from tflearn) (1.12.0)\n",
      "Requirement already satisfied: Pillow in c:\\users\\sreeraj.va\\appdata\\local\\continuum\\anaconda3\\lib\\site-packages (from tflearn) (6.2.0)\n",
      "Building wheels for collected packages: tflearn\n",
      "  Building wheel for tflearn (setup.py): started\n",
      "  Building wheel for tflearn (setup.py): finished with status 'done'\n",
      "  Created wheel for tflearn: filename=tflearn-0.3.2-cp37-none-any.whl size=128213 sha256=3eec47791a5be811c945391f1eaf684950dfcb54ee938168c5d40607f86847fa\n",
      "  Stored in directory: C:\\Users\\sreeraj.va\\AppData\\Local\\pip\\Cache\\wheels\\d0\\f6\\69\\0ef3ee395aac2e5d15d89efd29a9a216f3c27767b43b72c006\n",
      "Successfully built tflearn\n",
      "Installing collected packages: tflearn\n",
      "Successfully installed tflearn-0.3.2\n"
     ]
    }
   ],
   "source": [
    "!pip install tflearn"
   ]
  },
  {
   "cell_type": "code",
   "execution_count": 1,
   "metadata": {},
   "outputs": [],
   "source": [
    "import tensorflow as tf"
   ]
  }
 ],
 "metadata": {
  "kernelspec": {
   "display_name": "Python 3",
   "language": "python",
   "name": "python3"
  },
  "language_info": {
   "codemirror_mode": {
    "name": "ipython",
    "version": 3
   },
   "file_extension": ".py",
   "mimetype": "text/x-python",
   "name": "python",
   "nbconvert_exporter": "python",
   "pygments_lexer": "ipython3",
   "version": "3.7.4"
  }
 },
 "nbformat": 4,
 "nbformat_minor": 2
}
