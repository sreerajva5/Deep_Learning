{
 "cells": [
  {
   "cell_type": "code",
   "execution_count": null,
   "metadata": {},
   "outputs": [],
   "source": [
    "#sigmoid"
   ]
  },
  {
   "cell_type": "code",
   "execution_count": 1,
   "metadata": {},
   "outputs": [],
   "source": [
    "import numpy as np"
   ]
  },
  {
   "cell_type": "code",
   "execution_count": 2,
   "metadata": {},
   "outputs": [],
   "source": [
    "N = 100\n",
    "D = 2"
   ]
  },
  {
   "cell_type": "code",
   "execution_count": 13,
   "metadata": {},
   "outputs": [],
   "source": [
    "X = np.random.randn(N,D)\n",
    "ones = np.array([[1]*N]).T\n",
    "Xb = np.concatenate((ones, X), axis=1)"
   ]
  },
  {
   "cell_type": "code",
   "execution_count": 14,
   "metadata": {},
   "outputs": [],
   "source": [
    "w = np.random.randn(D + 1)"
   ]
  },
  {
   "cell_type": "code",
   "execution_count": 15,
   "metadata": {},
   "outputs": [],
   "source": [
    "z = Xb.dot(w)  #dot used for matrix multiplication"
   ]
  },
  {
   "cell_type": "code",
   "execution_count": 16,
   "metadata": {},
   "outputs": [],
   "source": [
    "def sigmoid(z):\n",
    "    return 1/(1+np.exp(-z))"
   ]
  },
  {
   "cell_type": "code",
   "execution_count": 17,
   "metadata": {},
   "outputs": [
    {
     "name": "stdout",
     "output_type": "stream",
     "text": [
      "[0.10613183 0.22853199 0.46721547 0.40720155 0.58484102 0.34055568\n",
      " 0.83260552 0.33293087 0.45677536 0.92342608 0.32017994 0.53649366\n",
      " 0.68210891 0.19428259 0.26582728 0.08117854 0.50254064 0.76071776\n",
      " 0.87157838 0.57010075 0.26181193 0.93134947 0.27498591 0.25159636\n",
      " 0.49133073 0.71729541 0.05817732 0.43776494 0.47430858 0.4632485\n",
      " 0.17729776 0.6363353  0.10081658 0.98522446 0.16556762 0.25043027\n",
      " 0.72622951 0.45583872 0.23296372 0.19653076 0.617183   0.48423995\n",
      " 0.21434553 0.17124405 0.410699   0.73513801 0.81888577 0.49978238\n",
      " 0.27985165 0.27717654 0.05717831 0.99148499 0.29440924 0.48618509\n",
      " 0.054847   0.03804803 0.25815756 0.32173804 0.84422091 0.46511801\n",
      " 0.33492786 0.05794713 0.99212643 0.90853697 0.36089636 0.37751531\n",
      " 0.33991625 0.79864565 0.71870232 0.45837675 0.79168762 0.95383158\n",
      " 0.50615393 0.02777919 0.93790133 0.01626365 0.76865995 0.46500854\n",
      " 0.56462419 0.8698357  0.47292667 0.37921832 0.01988192 0.23555514\n",
      " 0.04847464 0.48449712 0.44654464 0.14902622 0.6084956  0.93818063\n",
      " 0.23914719 0.36198229 0.15422633 0.03928959 0.7058416  0.9247812\n",
      " 0.34301081 0.56332246 0.04874973 0.55315121]\n"
     ]
    }
   ],
   "source": [
    "print(sigmoid(z))"
   ]
  },
  {
   "cell_type": "code",
   "execution_count": null,
   "metadata": {},
   "outputs": [],
   "source": [
    "#sigmoid returns values between 0 & 1."
   ]
  }
 ],
 "metadata": {
  "kernelspec": {
   "display_name": "Python 3",
   "language": "python",
   "name": "python3"
  },
  "language_info": {
   "codemirror_mode": {
    "name": "ipython",
    "version": 3
   },
   "file_extension": ".py",
   "mimetype": "text/x-python",
   "name": "python",
   "nbconvert_exporter": "python",
   "pygments_lexer": "ipython3",
   "version": "3.8.3"
  }
 },
 "nbformat": 4,
 "nbformat_minor": 4
}
